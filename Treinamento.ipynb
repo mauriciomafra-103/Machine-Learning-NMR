{
  "cells": [
    {
      "cell_type": "markdown",
      "id": "2477b8d0-4e7c-4b1a-b368-3799cacf9029",
      "metadata": {
        "id": "2477b8d0-4e7c-4b1a-b368-3799cacf9029"
      },
      "source": [
        "# Bibliotecas"
      ]
    },
    {
      "cell_type": "code",
      "execution_count": null,
      "id": "76d84514-b129-42bb-bf4d-8cb466663abb",
      "metadata": {
        "id": "76d84514-b129-42bb-bf4d-8cb466663abb"
      },
      "outputs": [],
      "source": [
        "# Bibliotecas mais comuns\n",
        "import pandas as pd\n",
        "import numpy as np\n",
        "import os, time\n",
        "import random\n",
        "import statistics\n",
        "import openpyxl\n",
        "import sys\n",
        "import Funcoes as fc\n",
        "\n",
        "# Bibliotecas para leitura e processamentos dos dados\n",
        "import statsmodels.api as sm\n",
        "import pickle\n",
        "\n",
        "# Bibliotecas para criação de gráficos\n",
        "from matplotlib import pyplot as plt\n",
        "import seaborn as sns\n",
        "import plotly.express as px\n",
        "from scipy.stats import randint\n",
        "\n",
        "# Bibliotecas para o Projeto RMN\n",
        "from sklearn import preprocessing\n",
        "from sklearn.preprocessing import MaxAbsScaler, OneHotEncoder, StandardScaler\n",
        "from sklearn.model_selection import StratifiedShuffleSplit, train_test_split, RandomizedSearchCV, KFold, GridSearchCV\n",
        "from sklearn.ensemble import RandomForestRegressor, GradientBoostingRegressor, HistGradientBoostingRegressor\n",
        "from sklearn.neural_network import MLPRegressor\n",
        "from sklearn.linear_model import SGDRegressor\n",
        "from sklearn.metrics.cluster import adjusted_mutual_info_score\n",
        "from sklearn.metrics import accuracy_score"
      ]
    },
    {
      "cell_type": "markdown",
      "id": "cd2bcdfd-fdd6-442f-b07c-85341da8da3d",
      "metadata": {
        "id": "cd2bcdfd-fdd6-442f-b07c-85341da8da3d"
      },
      "source": [
        "# Leitura dos dados"
      ]
    },
    {
      "cell_type": "code",
      "execution_count": null,
      "id": "21946e18-6af8-4b3d-8216-7db26c26b4a2",
      "metadata": {
        "id": "21946e18-6af8-4b3d-8216-7db26c26b4a2"
      },
      "outputs": [],
      "source": [
        "treino = pd.read_excel('Dados-RMN/Dados-Mauricio/Dados_treino.xlsx').drop('Unnamed: 0', axis = 1)\n",
        "teste = pd.read_excel('Dados-RMN/Dados-Mauricio/Dados_teste.xlsx').drop('Unnamed: 0', axis = 1)"
      ]
    },
    {
      "cell_type": "code",
      "execution_count": null,
      "id": "e27ad551-10a1-4804-ae83-38c0619dc88d",
      "metadata": {
        "id": "e27ad551-10a1-4804-ae83-38c0619dc88d"
      },
      "outputs": [],
      "source": [
        "X_treino = treino.drop(['Amostra', 'Poço', 'Litofacies', 'Categoria Litofacies', 'Bioturbiditos', 'Tempo Distribuicao',\n",
        "                         'Dolowackstone', 'Grainstone', 'Brechado', 'Porosidade Gas', 'Porosidade RMN', 'Distribuicao T2',\n",
        "                         'Permeabilidade Gas', 'Fracao Argila', 'Fitting Error', 'T2 Ponderado Log', 'Porosidade i',\n",
        "                         'S1', 'S2', 'S3', 'S4'], axis = 1)\n",
        "\n",
        "y_treino = np.log10(treino['Permeabilidade Gas']*1000)\n",
        "\n",
        "X_teste = teste.drop(['Amostra', 'Poço', 'Litofacies', 'Categoria Litofacies', 'Bioturbiditos', 'Tempo Distribuicao',\n",
        "                         'Dolowackstone', 'Grainstone', 'Brechado', 'Porosidade Gas', 'Porosidade RMN', 'Distribuicao T2',\n",
        "                         'Permeabilidade Gas', 'Fracao Argila', 'Fitting Error', 'T2 Ponderado Log', 'Porosidade i',\n",
        "                         'S1', 'S2', 'S3', 'S4'], axis = 1)\n",
        "\n",
        "y_teste = np.log10(teste['Permeabilidade Gas']*1000)"
      ]
    },
    {
      "cell_type": "code",
      "execution_count": null,
      "id": "04570c04-3810-49c5-b584-5ea5a9a00fe9",
      "metadata": {
        "id": "04570c04-3810-49c5-b584-5ea5a9a00fe9"
      },
      "outputs": [],
      "source": [
        "def previsao_ML(modelo, X, y_log):\n",
        "    y = (10**y_log)/1000\n",
        "    p = modelo.predict(X)\n",
        "    previsao = (10**p)/1000\n",
        "    k_p = np.log10(previsao)\n",
        "    k_g = np.log10(y)\n",
        "    N = len(k_p)\n",
        "    soma = np.sum((k_p-k_g)**2)\n",
        "    raiz = np.sqrt(soma/N)\n",
        "    sigma = 10**(raiz)\n",
        "    return sigma"
      ]
    },
    {
      "cell_type": "markdown",
      "id": "23e1d0a0-0601-4332-b82b-91a5bb0d4336",
      "metadata": {
        "id": "23e1d0a0-0601-4332-b82b-91a5bb0d4336"
      },
      "source": [
        "## Random Forest Regressor"
      ]
    },
    {
      "cell_type": "code",
      "execution_count": null,
      "id": "468bb789-b73c-43f2-824a-2386d7e95eb3",
      "metadata": {
        "id": "468bb789-b73c-43f2-824a-2386d7e95eb3",
        "outputId": "be4643e5-152d-4400-c847-84ff95e7fe9d"
      },
      "outputs": [
        {
          "name": "stdout",
          "output_type": "stream",
          "text": [
            "1555.8646471500397 segundos\n"
          ]
        }
      ],
      "source": [
        "tempo_inicial = time.time()\n",
        "rfr = fc.fitRandomForestRegressor(X_treino, y_treino, Versao = 2.9, n_jobs = 64, Pasta_Salvamento = 'Dados-RMN/Dados-Mauricio/Machine-Learning/Random Forest/',\n",
        "                                  n_estimators = np.arange(750, 802, 2),\n",
        "                                  criterion = ['squared_error', 'absolute_error'],\n",
        "                                  max_depth = [None],\n",
        "                                  min_samples_split = [2, 3, 4],\n",
        "                                  min_samples_leaf = [1, 2, 3],\n",
        "                                  min_weight_fraction_leaf = [0.0],\n",
        "                                  max_features = [1.0, 'sqrt', 'log2'],\n",
        "                                  max_leaf_nodes = [None],\n",
        "                                  min_impurity_decrease = [0.0],\n",
        "                                  bootstrap = [True],\n",
        "                                  oob_score = [False],\n",
        "                                  warm_start = [False],\n",
        "                                  ccp_alpha = [0.0],\n",
        "                                  max_samples = [None])\n",
        "\n",
        "tempo_final = time.time()\n",
        "print(f'{tempo_final - tempo_inicial} segundos')"
      ]
    },
    {
      "cell_type": "code",
      "execution_count": null,
      "id": "c52703c1-70b4-4a2c-9024-d604e0295f5d",
      "metadata": {
        "id": "c52703c1-70b4-4a2c-9024-d604e0295f5d",
        "outputId": "ce04636a-9589-47d4-ed0e-ff1df87061ba"
      },
      "outputs": [
        {
          "name": "stdout",
          "output_type": "stream",
          "text": [
            "1.7054834787260134\n",
            "3.6985990032900538\n"
          ]
        }
      ],
      "source": [
        "print(previsao_ML(rfr, X_treino, y_treino))\n",
        "print(previsao_ML(rfr, X_teste, y_teste))"
      ]
    },
    {
      "cell_type": "code",
      "execution_count": null,
      "id": "dd210091-70c4-4fa5-9830-8774f70c55d5",
      "metadata": {
        "id": "dd210091-70c4-4fa5-9830-8774f70c55d5",
        "outputId": "42a1e535-a0e4-41c5-9677-f57ba66f5df1"
      },
      "outputs": [
        {
          "data": {
            "text/plain": [
              "{'bootstrap': True,\n",
              " 'ccp_alpha': 0.0,\n",
              " 'criterion': 'squared_error',\n",
              " 'max_depth': None,\n",
              " 'max_features': 'log2',\n",
              " 'max_leaf_nodes': None,\n",
              " 'max_samples': None,\n",
              " 'min_impurity_decrease': 0.0,\n",
              " 'min_samples_leaf': 1,\n",
              " 'min_samples_split': 3,\n",
              " 'min_weight_fraction_leaf': 0.0,\n",
              " 'n_estimators': 756,\n",
              " 'oob_score': False}"
            ]
          },
          "execution_count": 41,
          "metadata": {},
          "output_type": "execute_result"
        }
      ],
      "source": [
        "rfr.best_params_"
      ]
    },
    {
      "cell_type": "markdown",
      "id": "8114d9c1-2975-46ff-94c3-4d40c10dd044",
      "metadata": {
        "id": "8114d9c1-2975-46ff-94c3-4d40c10dd044"
      },
      "source": [
        "## Gradient Boosting Regressor"
      ]
    },
    {
      "cell_type": "code",
      "execution_count": null,
      "id": "87d131b0-1879-4633-9499-eb44695bc21f",
      "metadata": {
        "id": "87d131b0-1879-4633-9499-eb44695bc21f",
        "outputId": "cc943d57-0aba-45f7-8bcb-1fc256cd3c9c"
      },
      "outputs": [
        {
          "name": "stdout",
          "output_type": "stream",
          "text": [
            "7753.693201541901 segundos\n"
          ]
        }
      ],
      "source": [
        "tempo_inicial = time.time()\n",
        "grb = fc.fitGradienteBoosting(X_treino, y_treino, Versao = 2.1, n_jobs = 64, Pasta_Salvamento = 'Dados-RMN/Dados-Mauricio/Machine-Learning/Gradient Boosting/',\n",
        "                             loss = ['squared_error', 'absolute_error'],\n",
        "                              learning_rate = [0.001, 0.01, 0.05],\n",
        "                              n_estimators = np.arange(896, 1920, 128),\n",
        "                              subsample = [1.0],\n",
        "                              criterion = ['friedman_mse', 'squared_error'],\n",
        "                              min_samples_split = [2, 3],\n",
        "                              min_samples_leaf = [3, 4, 5],\n",
        "                              min_weight_fraction_leaf = [0.0],\n",
        "                              max_depth = [4,5,6],\n",
        "                              min_impurity_decrease = [0.0],\n",
        "                              init = [None],\n",
        "                              max_features = [None, 'sqrt', 'log2'],\n",
        "                              alpha = [0.9],\n",
        "                              max_leaf_nodes = [None],\n",
        "                              warm_start = [False],\n",
        "                              validation_fraction = [0.1],\n",
        "                              n_iter_no_change = [None],\n",
        "                              tol = [1e-04, 1e-05],\n",
        "                              ccp_alpha = [0.0])\n",
        "\n",
        "\n",
        "tempo_final = time.time()\n",
        "print(f'{tempo_final - tempo_inicial} segundos')"
      ]
    },
    {
      "cell_type": "code",
      "execution_count": null,
      "id": "f9fed565-5799-4ec6-b198-f1fe2fa299cf",
      "metadata": {
        "id": "f9fed565-5799-4ec6-b198-f1fe2fa299cf",
        "outputId": "83c2e6d5-57c3-4831-d386-64734a2925b3"
      },
      "outputs": [
        {
          "name": "stdout",
          "output_type": "stream",
          "text": [
            "1.8357473166521678\n",
            "3.56045195515427\n"
          ]
        }
      ],
      "source": [
        "print(previsao_ML(grb, X_treino, y_treino))\n",
        "print(previsao_ML(grb, X_teste, y_teste))"
      ]
    },
    {
      "cell_type": "code",
      "execution_count": null,
      "id": "d5446989-d047-4825-bcd4-427ad7d419a9",
      "metadata": {
        "id": "d5446989-d047-4825-bcd4-427ad7d419a9",
        "outputId": "32067b76-82dd-4814-d8b8-f2e324261d39"
      },
      "outputs": [
        {
          "data": {
            "text/plain": [
              "{'alpha': 0.9,\n",
              " 'ccp_alpha': 0.0,\n",
              " 'criterion': 'friedman_mse',\n",
              " 'init': None,\n",
              " 'learning_rate': 0.05,\n",
              " 'loss': 'absolute_error',\n",
              " 'max_depth': 5,\n",
              " 'max_features': 'log2',\n",
              " 'max_leaf_nodes': None,\n",
              " 'min_impurity_decrease': 0.0,\n",
              " 'min_samples_leaf': 5,\n",
              " 'min_samples_split': 2,\n",
              " 'min_weight_fraction_leaf': 0.0,\n",
              " 'n_estimators': 1792,\n",
              " 'n_iter_no_change': None,\n",
              " 'subsample': 1.0,\n",
              " 'tol': 0.0001,\n",
              " 'validation_fraction': 0.1,\n",
              " 'warm_start': False}"
            ]
          },
          "execution_count": 13,
          "metadata": {},
          "output_type": "execute_result"
        }
      ],
      "source": [
        "grb.best_params_"
      ]
    },
    {
      "cell_type": "markdown",
      "id": "e74e4f46-61fb-46e3-954d-9dde9dde7f63",
      "metadata": {
        "id": "e74e4f46-61fb-46e3-954d-9dde9dde7f63"
      },
      "source": [
        "## Multi Layer Perceptron"
      ]
    },
    {
      "cell_type": "code",
      "execution_count": null,
      "id": "9fb64dc1-596d-4c95-bc42-949efa733834",
      "metadata": {
        "id": "9fb64dc1-596d-4c95-bc42-949efa733834",
        "outputId": "fcf34748-4b73-4ea8-e640-df1fe63a04b2"
      },
      "outputs": [
        {
          "name": "stdout",
          "output_type": "stream",
          "text": [
            "2015.198823928833 segundos\n"
          ]
        }
      ],
      "source": [
        "tempo_inicial = time.time()\n",
        "\n",
        "mlp = fc.fitMultiLayerPercepetronRegressor (X_treino, y_treino, Pasta_Salvamento = 'Dados-RMN/Dados-Mauricio/Machine-Learning/MultiLayerPerceptron/', Versao = 1.23, n_jobs = 64,\n",
        "                                            hidden_layer_sizes= [(72, 72, 80,), (72, 80, 88,), (72, 88, 88,)],\n",
        "                                            activation= ['relu', 'tanh'],\n",
        "                                            solver= ['adam'],\n",
        "                                            alpha= [1e-02, 1e-03],\n",
        "                                            learning_rate= ['constant'],\n",
        "                                            learning_rate_init= [1e-02, 1e-03],\n",
        "                                            power_t= [0.5],\n",
        "                                            max_iter= 32768,\n",
        "                                            tol= [1e-04, 1e-03],\n",
        "                                            warm_start= [False],\n",
        "                                            momentum= [0.9],\n",
        "                                            nesterovs_momentum= [True],\n",
        "                                            early_stopping= [False],\n",
        "                                            validation_fraction= [0.1],\n",
        "                                            beta_1= [0.9, 0.999, 0.85],\n",
        "                                            beta_2= [0.999, 0.9, 0.85],\n",
        "                                            epsilon= [1e-08, 1e-07],\n",
        "                                            n_iter_no_change= [256])\n",
        "tempo_final = time.time()\n",
        "print(f'{tempo_final - tempo_inicial} segundos')"
      ]
    },
    {
      "cell_type": "code",
      "execution_count": null,
      "id": "b014153d-db13-4a1e-81fa-82e2a95f57ae",
      "metadata": {
        "id": "b014153d-db13-4a1e-81fa-82e2a95f57ae",
        "outputId": "16c89a9c-c9ea-4386-b247-e6b064fc0715"
      },
      "outputs": [
        {
          "name": "stdout",
          "output_type": "stream",
          "text": [
            "3.155471762299259\n",
            "4.3211121841866875\n"
          ]
        }
      ],
      "source": [
        "print(previsao_ML(mlp, X_treino, y_treino))\n",
        "print(previsao_ML(mlp, X_teste, y_teste))"
      ]
    },
    {
      "cell_type": "code",
      "execution_count": null,
      "id": "4f359534-6c08-4828-9bd2-860acfd166ae",
      "metadata": {
        "id": "4f359534-6c08-4828-9bd2-860acfd166ae",
        "outputId": "c5ce89be-bee9-47a1-919a-2226e640efd1"
      },
      "outputs": [
        {
          "data": {
            "text/plain": [
              "{'activation': 'tanh',\n",
              " 'alpha': 0.001,\n",
              " 'beta_1': 0.999,\n",
              " 'beta_2': 0.999,\n",
              " 'epsilon': 1e-08,\n",
              " 'hidden_layer_sizes': (72, 72, 80),\n",
              " 'learning_rate': 'constant',\n",
              " 'learning_rate_init': 0.001,\n",
              " 'momentum': 0.9,\n",
              " 'n_iter_no_change': 256,\n",
              " 'nesterovs_momentum': True,\n",
              " 'power_t': 0.5,\n",
              " 'solver': 'adam',\n",
              " 'tol': 0.001,\n",
              " 'validation_fraction': 0.1,\n",
              " 'warm_start': False}"
            ]
          },
          "execution_count": 13,
          "metadata": {},
          "output_type": "execute_result"
        }
      ],
      "source": [
        "mlp.best_params_"
      ]
    }
  ],
  "metadata": {
    "kernelspec": {
      "display_name": "Python 3 (ipykernel)",
      "language": "python",
      "name": "python3"
    },
    "language_info": {
      "codemirror_mode": {
        "name": "ipython",
        "version": 3
      },
      "file_extension": ".py",
      "mimetype": "text/x-python",
      "name": "python",
      "nbconvert_exporter": "python",
      "pygments_lexer": "ipython3",
      "version": "3.11.4"
    },
    "colab": {
      "provenance": []
    }
  },
  "nbformat": 4,
  "nbformat_minor": 5
}