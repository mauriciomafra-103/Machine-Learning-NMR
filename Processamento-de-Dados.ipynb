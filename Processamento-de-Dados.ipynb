{
  "nbformat": 4,
  "nbformat_minor": 0,
  "metadata": {
    "colab": {
      "provenance": []
    },
    "kernelspec": {
      "name": "python3",
      "display_name": "Python 3"
    },
    "language_info": {
      "name": "python"
    }
  },
  "cells": [
    {
      "cell_type": "code",
      "source": [
        "import pandas as pd\n",
        "import numpy as np\n",
        "import os\n",
        "import openpyxl\n",
        "from sklearn import preprocessing\n",
        "from sklearn.preprocessing import MaxAbsScaler, OneHotEncoder\n",
        "from sklearn.model_selection import StratifiedShuffleSplit"
      ],
      "metadata": {
        "id": "nMs0a6SBEtUe"
      },
      "execution_count": null,
      "outputs": []
    },
    {
      "cell_type": "code",
      "source": [
        "def TratamentoDadosLaboratorio (diretorio_pasta, dados_niumag, arquivo_laboratorio,\n",
        "                                Pasta_Salvamento = None, Salvar = False, Data = None,\n",
        "                                Fracoes_T2 = False, Dados_porosidade_Transverso = False):\n",
        "    laboratorio = str(diretorio_pasta) + str(arquivo_laboratorio)\n",
        "    dados_niumag = dados_niumag\n",
        "    dados_lab = pd.read_excel(laboratorio)\n",
        "\n",
        "\n",
        "    amostras = dados_niumag['Amostra']\n",
        "    tempo_distribuicao = dados_niumag['Tempo Distribuicao']\n",
        "    distribuicao_t2 = dados_niumag['Distribuicao T2']\n",
        "    fitting_erro = dados_niumag['Fitting Error']\n",
        "    fracao_argila = dados_niumag['Fracao Argila']\n",
        "    porosidade_i = []\n",
        "    poço = dados_niumag['Poço']\n",
        "    media_ponderada_log = []\n",
        "    s1 = []\n",
        "    s2 = []\n",
        "    s3 = []\n",
        "    s4 = []\n",
        "\n",
        "    codi_lab = preprocessing.LabelEncoder()\n",
        "    categoria_lito = codi_lab.fit_transform(dados_lab['Litofacies'])\n",
        "    onehot = OneHotEncoder()\n",
        "    ohe = pd.DataFrame(onehot.fit_transform(dados_lab[['Litofacies']]).toarray())\n",
        "    ohe.columns = onehot.categories_\n",
        "\n",
        "\n",
        "    for i in np.arange(len(distribuicao_t2)):\n",
        "        t2_transpose = pd.DataFrame([distribuicao_t2[i]]).T\n",
        "        scaler = pd.DataFrame(MaxAbsScaler().fit_transform(t2_transpose))\n",
        "        scaler_sum_phi = float(dados_lab['Porosidade RMN'][i])/float(scaler.sum())\n",
        "        phi_i = []\n",
        "        for j in np.arange(len(scaler)):\n",
        "            p = float(scaler[0][j]*scaler_sum_phi)\n",
        "            phi_i.append(p)\n",
        "        porosidade_i.append(list(phi_i))\n",
        "\n",
        "    for i in np.arange(len(porosidade_i)):\n",
        "        phi_i = porosidade_i[i]\n",
        "        tempo_log = np.log(tempo_distribuicao[i])\n",
        "        produto_porosidade_t2_log = pd.DataFrame(phi_i*tempo_log)\n",
        "        sum_num = np.sum(produto_porosidade_t2_log)\n",
        "        sum_den = np.sum(phi_i)\n",
        "        razao_t2 = float(np.exp(sum_num/sum_den))\n",
        "        media_ponderada_log.append((razao_t2))\n",
        "\n",
        "    dados = pd.DataFrame({'Amostra': amostras})\n",
        "    dados['Poço'] = poço\n",
        "    dados['Litofacies'] = dados_lab['Litofacies']\n",
        "    dados['Categoria Litofacies'] = categoria_lito\n",
        "    dados['Bioturbiditos'] = ohe['Bioturbated']\n",
        "    dados['Dolowackstone'] = ohe['Dolowackstone']\n",
        "    dados['Grainstone'] = ohe['Grainstone']\n",
        "    dados['Brechado'] = ohe['Brechado']\n",
        "    dados['Tempo Distribuicao'] = pd.Series(tempo_distribuicao)\n",
        "    dados['Distribuicao T2'] = pd.Series(distribuicao_t2)\n",
        "    dados['Porosidade i'] = pd.Series(porosidade_i)\n",
        "    dados['Porosidade Gas'] = dados_lab['Porosidade Gas']/100\n",
        "    dados['Porosidade RMN'] = dados_lab['Porosidade RMN']/100\n",
        "    dados['Permeabilidade Gas'] = dados_lab['Permeabilidade Gas']\n",
        "    dados['Fracao Argila'] =  fracao_argila\n",
        "    dados['Fitting Error'] = fitting_erro\n",
        "    dados['T2 Ponderado Log'] = media_ponderada_log\n",
        "\n",
        "\n",
        "    if Fracoes_T2 == True:\n",
        "        for i in np.arange(len(porosidade_i)):\n",
        "            phi_i = pd.Series(porosidade_i[i])\n",
        "            porosidade = np.sum(porosidade_i[i])\n",
        "            a1 = phi_i[:74].sum()\n",
        "            a2 = phi_i[74:84].sum()\n",
        "            a3 = phi_i[84:92].sum()\n",
        "            a4 = phi_i[92:].sum()\n",
        "            phimicro = a1/porosidade\n",
        "            phimeso  = a2/porosidade\n",
        "            phimacro = a3/porosidade\n",
        "            phisuper = a4/porosidade\n",
        "\n",
        "            if phimicro <= 0.0001:\n",
        "              phimicro = 0.0001\n",
        "            if phimeso <= 0.0001:\n",
        "              phimeso = 0.0001\n",
        "            if phimacro <= 0.0001:\n",
        "              phimacro = 0.0001\n",
        "            if phisuper <= 0.0001:\n",
        "              phisuper = 0.0001\n",
        "\n",
        "            s1.append(phimicro)\n",
        "            s2.append(phimeso)\n",
        "            s3.append(phimacro)\n",
        "            s4.append(phisuper)\n",
        "\n",
        "\n",
        "        dados['S1'] = s1\n",
        "        dados['S2'] = s2\n",
        "        dados['S3'] = s3\n",
        "        dados['S4'] = s4\n",
        "\n",
        "    if Dados_porosidade_Transverso == True:\n",
        "        dataframe_porosidade = dados['Porosidade i']\n",
        "        array_tempo_distribuicao = dados['Tempo Distribuicao']\n",
        "        array_amostras = dados ['Amostra']\n",
        "        df = pd.DataFrame([[0 for col in range(len(array_tempo_distribuicao[0]))] for row in range(len(array_amostras))])\n",
        "        colunas = []\n",
        "        for i in range(len(array_amostras)):\n",
        "            for j in np.arange(len(array_tempo_distribuicao[0])):\n",
        "                por = dataframe_porosidade[i][j]\n",
        "                string = 'T2 ' + str(array_tempo_distribuicao[i][j])\n",
        "                colunas.append(string)\n",
        "                df[j][i] = por\n",
        "        df.columns = colunas[0:128]\n",
        "        dados = pd.concat([dados, df], axis = 1)\n",
        "\n",
        "    if Salvar == True:\n",
        "        local_salvamento = Pasta_Salvamento + 'Dados_Gerais_' + Data + '.xlsx'\n",
        "        dados.to_excel(local_salvamento, sheet_name='Dados')                          # Salvar dataframe\n",
        "\n",
        "    return dados"
      ],
      "metadata": {
        "id": "TKEkSlGXErBt"
      },
      "execution_count": null,
      "outputs": []
    },
    {
      "cell_type": "code",
      "source": [
        "dados_niumag = pd.read_excel('/content/drive/MyDrive/Mestrado/Artigo - 1/Dados RMN/AA.xlsx').drop('File Name', axis=1)\n",
        "df = dados_niumag.T.reset_index().drop('index', axis = 1).T\n",
        "inicio = 15-2                                                   # Linha que se inicia os dados de da inversão\n",
        "final = inicio+128\n",
        "distribuicao = df[7+4][inicio:final]\n",
        "tempo = df[7+3][inicio:final]\n",
        "dados = pd.DataFrame({'Tempo Distribuição': tempo,\n",
        "                      'Sinal': distribuicao}).reset_index().drop('index', axis = 1)\n",
        "t2_transpose = pd.DataFrame([dados['Sinal']]).T\n",
        "scaler = pd.DataFrame(MaxAbsScaler().fit_transform(t2_transpose))\n",
        "dados['Escala'] = scaler\n",
        "scaler_sum_phi = float(19.8)/float(scaler.sum())\n",
        "phi = []\n",
        "for j in np.arange(len(scaler)):\n",
        "  p = float(scaler[0][j]*scaler_sum_phi)\n",
        "  phi.append(p)\n",
        "\n",
        "dados['Phi_i'] = phi"
      ],
      "metadata": {
        "id": "c9jSTmhEF4Gb"
      },
      "execution_count": null,
      "outputs": []
    },
    {
      "cell_type": "code",
      "source": [
        "import seaborn as sns\n",
        "import matplotlib.pyplot as plt\n",
        "\n",
        "\n",
        "plt.subplots(figsize = (6,4))\n",
        "sns.scatterplot(data = dados,\n",
        "                    x = 'Tempo Distribuição',\n",
        "                    y = 'Phi_i',\n",
        "                    palette = 'Spectral')\n",
        "\n",
        "plt.title('Inversão Niumag - Phi')\n",
        "plt.xlabel('Tempo Distribuição')\n",
        "plt.ylabel('Sinal Phi')\n",
        "\n",
        "plt.xscale('log')\n",
        "plt.show()"
      ],
      "metadata": {
        "colab": {
          "base_uri": "https://localhost:8080/",
          "height": 450
        },
        "id": "dR-S_eV9NXS3",
        "outputId": "ecbb9bf8-9d79-4ea5-f886-bda8d1130925"
      },
      "execution_count": null,
      "outputs": [
        {
          "output_type": "stream",
          "name": "stderr",
          "text": [
            "<ipython-input-4-d53349424b16>:6: UserWarning: Ignoring `palette` because no `hue` variable has been assigned.\n",
            "  sns.scatterplot(data = dados,\n"
          ]
        },
        {
          "output_type": "display_data",
          "data": {
            "text/plain": [
              "<Figure size 600x400 with 1 Axes>"
            ],
            "image/png": "[encoded data removed]"
          },
          "metadata": {}
        }
      ]
    },
    {
      "cell_type": "code",
      "source": [
        "def TratamentoDadosNiumag (diretorio_pasta, arquivo_niumag, inicio_conversao, pontos_inversao,\n",
        "                           Pasta_Salvamento = None, Salvar = False, Data = None, T2_niumag_gm = False,\n",
        "                           T2_niumag_av = False):\n",
        "\n",
        "    niumag = str(diretorio_pasta) + str(arquivo_niumag)                           # Pasta do arquivp\n",
        "    dados_niumag = pd.read_excel(niumag).drop('File Name', axis=1)                # Dataframe dos Dados da Niumag\n",
        "\n",
        "    inicio = inicio_conversao-2                                                   # Linha que se inicia os dados de da inversão\n",
        "    final = inicio+pontos_inversao                                                # Linha final da Inversão\n",
        "\n",
        "    amostras = []\n",
        "    tempo_distribuicao = []\n",
        "    distribuicao_t2 = []\n",
        "    t2gm_niumag = []\n",
        "    t2av_niumag = []\n",
        "    fitting_erro = []\n",
        "    fracao_argila = []\n",
        "    poço = []\n",
        "\n",
        "    for i in np.arange(int(len(dados_niumag.columns)/7)):\n",
        "        df = dados_niumag.T.reset_index().drop('index', axis = 1).T\n",
        "        nome = dados_niumag.columns[i*7][:9]\n",
        "        tempo = df[i*7+3][inicio:final]\n",
        "        distribuicao = df[i*7+4][inicio:final]\n",
        "        gm = float(df[i*7+2][1][7:-4])\n",
        "        av = float(df[i*7+2][2][7:-4])\n",
        "        fit_erro = float(df[i*7][0][-5:])\n",
        "        argila = sum(distribuicao[:53])/sum(distribuicao)\n",
        "        p = nome[:4]\n",
        "        amostras.append(nome)\n",
        "        poço.append(p)\n",
        "        tempo_distribuicao.append(list(tempo))\n",
        "        distribuicao_t2.append(list(distribuicao))\n",
        "        t2gm_niumag.append(gm)\n",
        "        t2av_niumag.append(av)\n",
        "        fitting_erro.append(fit_erro)\n",
        "        fracao_argila.append(argila)\n",
        "\n",
        "    dados = pd.DataFrame({'Amostra': amostras})\n",
        "    dados['Poço'] = poço\n",
        "    dados['Tempo Distribuicao'] = pd.Series(tempo_distribuicao)\n",
        "    dados['Distribuicao T2'] = pd.Series(distribuicao_t2)\n",
        "    dados['Fracao Argila'] =  fracao_argila\n",
        "    dados['Fitting Error'] = fitting_erro\n",
        "\n",
        "    if T2_niumag_gm == True:\n",
        "        dados['T2 Geometrico Niumag'] = t2gm_niumag\n",
        "\n",
        "    if T2_niumag_av == True:\n",
        "        dados['T2 Medio Niumag'] = t2av_niumag\n",
        "\n",
        "    if Salvar == True:\n",
        "        local_salvamento = Pasta_Salvamento + 'Dados_Niumag_' + arquivo_niumag[:-5] + '_' + Data + '.xlsx'\n",
        "        dados.to_excel(local_salvamento, sheet_name='Dados')                          # Salvar dataframe\n",
        "\n",
        "\n",
        "    return dados\n",
        "\n"
      ],
      "metadata": {
        "id": "G0BvzLzGo_c-"
      },
      "execution_count": null,
      "outputs": []
    },
    {
      "cell_type": "code",
      "source": [
        "# Diretório principal\n",
        "diretório_pasta = '/content/drive/MyDrive/Mestrado/Artigo - 1/Dados RMN/'\n",
        "\n",
        "# Arquivos Niumag\n",
        "aa = 'AA.xlsx'\n",
        "af = 'AF.xlsx'\n",
        "at = 'AT.xlsx'\n",
        "\n",
        "# Arquivo Laboratório\n",
        "lab = 'Dados-Lab.xlsx'\n",
        "\n",
        "# Salvamento\n",
        "salvar = '/content/drive/MyDrive/Mestrado/Artigo - 1/Dados-Salvos/'"
      ],
      "metadata": {
        "id": "M61EEIrVo_af"
      },
      "execution_count": null,
      "outputs": []
    },
    {
      "cell_type": "code",
      "source": [
        "dados_aa = TratamentoDadosNiumag(diretório_pasta, aa, 15, 128)\n",
        "dados_at = TratamentoDadosNiumag(diretório_pasta, at, 15, 128)\n",
        "dados_af = TratamentoDadosNiumag(diretório_pasta, af, 15, 128)\n",
        "dados_niumag = pd.concat([dados_aa, dados_af, dados_at]).reset_index().drop('index', axis = 1)\n",
        "dados = TratamentoDadosLaboratorio(diretório_pasta, dados_niumag, lab, salvar, Salvar=True, Data= '28-10',\n",
        "                                   Fracoes_T2=True, Dados_porosidade_Transverso=True)"
      ],
      "metadata": {
        "colab": {
          "base_uri": "https://localhost:8080/"
        },
        "id": "Rkcbb8E5o_YG",
        "outputId": "432260da-0197-431d-bd7c-03f0f6715340"
      },
      "execution_count": null,
      "outputs": [
        {
          "output_type": "stream",
          "name": "stderr",
          "text": [
            "<ipython-input-2-939bbe5a31e4>:111: SettingWithCopyWarning: \n",
            "A value is trying to be set on a copy of a slice from a DataFrame\n",
            "\n",
            "See the caveats in the documentation: https://pandas.pydata.org/pandas-docs/stable/user_guide/indexing.html#returning-a-view-versus-a-copy\n",
            "  df[j][i] = por\n"
          ]
        }
      ]
    },
    {
      "cell_type": "code",
      "source": [
        "sss = StratifiedShuffleSplit(n_splits=2, train_size=.7, random_state=42)\n",
        "\n",
        "X = dados.drop('Categoria Litofacies', axis = 1)\n",
        "groups = dados['Categoria Litofacies']\n",
        "\n",
        "for i, (train_index, test_index) in enumerate(sss.split(X, groups)):\n",
        "  print(f\"Fold {i}:\")"
      ],
      "metadata": {
        "id": "JiUoHZbLNjCX",
        "colab": {
          "base_uri": "https://localhost:8080/"
        },
        "outputId": "365bf36c-3496-4594-b639-f3d6d65b43cd"
      },
      "execution_count": null,
      "outputs": [
        {
          "output_type": "stream",
          "name": "stdout",
          "text": [
            "Fold 0:\n",
            "Fold 1:\n"
          ]
        }
      ]
    },
    {
      "cell_type": "code",
      "source": [
        "dados_treino = dados.iloc[train_index]\n",
        "dados_teste = dados.iloc[test_index]\n",
        "\n",
        "salvar_treino = salvar + 'Dados_treino_28_10.xlsx'\n",
        "salvar_teste = salvar + 'Dados_teste_28_10.xlsx'\n",
        "\n",
        "dados_treino.to_excel(salvar_treino)\n",
        "dados_teste.to_excel(salvar_teste)"
      ],
      "metadata": {
        "id": "CAB1K8KbR9vz"
      },
      "execution_count": null,
      "outputs": []
    },
    {
      "cell_type": "code",
      "source": [],
      "metadata": {
        "id": "c7RIib65Sd-L"
      },
      "execution_count": null,
      "outputs": []
    }
  ]
}