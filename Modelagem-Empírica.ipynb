{
  "nbformat": 4,
  "nbformat_minor": 0,
  "metadata": {
    "colab": {
      "provenance": []
    },
    "kernelspec": {
      "name": "python3",
      "display_name": "Python 3"
    },
    "language_info": {
      "name": "python"
    }
  },
  "cells": [
    {
      "cell_type": "code",
      "execution_count": null,
      "metadata": {
        "id": "-Lh4Z02_Uzog"
      },
      "outputs": [],
      "source": [
        "import pandas as pd\n",
        "import numpy as np\n",
        "import os\n",
        "import statistics\n",
        "import openpyxl\n",
        "from scipy.stats import randint\n",
        "import sys\n",
        "import statsmodels.api as sm\n",
        "from sklearn.model_selection import StratifiedShuffleSplit, train_test_split, RandomizedSearchCV, KFold, GridSearchCV\n",
        "from sklearn import preprocessing\n",
        "from sklearn.ensemble import RandomForestRegressor, GradientBoostingRegressor\n",
        "from sklearn.neural_network import MLPRegressor\n",
        "from scipy.stats import randint\n",
        "from sklearn.metrics.cluster import adjusted_mutual_info_score\n",
        "from sklearn.preprocessing import MaxAbsScaler, OneHotEncoder, StandardScaler\n",
        "import pickle\n",
        "import matplotlib.pyplot as plt\n",
        "import seaborn as sns\n",
        "import plotly.express as px\n",
        "from sklearn.metrics import mean_squared_error"
      ]
    },
    {
      "cell_type": "code",
      "source": [
        "!pip install -U scikit-learn\n",
        "!pip install pickle5"
      ],
      "metadata": {
        "colab": {
          "base_uri": "https://localhost:8080/"
        },
        "id": "5_HeTc54_Z9r",
        "outputId": "198001fe-4024-4c92-b348-2cfbf8a22d6e"
      },
      "execution_count": null,
      "outputs": [
        {
          "output_type": "stream",
          "name": "stdout",
          "text": [
            "Requirement already satisfied: scikit-learn in /usr/local/lib/python3.10/dist-packages (1.3.2)\n",
            "Requirement already satisfied: numpy<2.0,>=1.17.3 in /usr/local/lib/python3.10/dist-packages (from scikit-learn) (1.23.5)\n",
            "Requirement already satisfied: scipy>=1.5.0 in /usr/local/lib/python3.10/dist-packages (from scikit-learn) (1.11.3)\n",
            "Requirement already satisfied: joblib>=1.1.1 in /usr/local/lib/python3.10/dist-packages (from scikit-learn) (1.3.2)\n",
            "Requirement already satisfied: threadpoolctl>=2.0.0 in /usr/local/lib/python3.10/dist-packages (from scikit-learn) (3.2.0)\n",
            "Requirement already satisfied: pickle5 in /usr/local/lib/python3.10/dist-packages (0.0.11)\n"
          ]
        }
      ]
    },
    {
      "cell_type": "code",
      "source": [
        "from google.colab import drive\n",
        "drive.mount('/content/drive')"
      ],
      "metadata": {
        "colab": {
          "base_uri": "https://localhost:8080/"
        },
        "id": "t4-Qa1XGVoVs",
        "outputId": "61902cd6-fd0c-4fca-d800-edc6f60e447c"
      },
      "execution_count": null,
      "outputs": [
        {
          "output_type": "stream",
          "name": "stdout",
          "text": [
            "Mounted at /content/drive\n"
          ]
        }
      ]
    },
    {
      "cell_type": "markdown",
      "source": [
        "# Abertura dos dados"
      ],
      "metadata": {
        "id": "zSsgH4qGC0EY"
      }
    },
    {
      "cell_type": "code",
      "source": [
        "treino = pd.read_excel('/content/drive/MyDrive/Mestrado/Resultados.xlsx', sheet_name = 'Dados_Treino')\n",
        "teste = pd.read_excel('/content/drive/MyDrive/Mestrado/Resultados.xlsx', sheet_name = 'Dados_Teste')"
      ],
      "metadata": {
        "id": "u7C5rxk9azTq"
      },
      "execution_count": null,
      "outputs": []
    },
    {
      "cell_type": "code",
      "source": [
        "dados_treino = treino[['Amostra',\n",
        "                                           'Litofacies',\n",
        "                                           'Categoria Litofacies',\n",
        "                                           'Porosidade Gas',\n",
        "                                           'Porosidade RMN',\n",
        "                                           'Permeabilidade Gas',\n",
        "                                           'T2 Ponderado Log',\n",
        "                                           'S1',\n",
        "                                           'S2',\n",
        "                                           'S3',\n",
        "                                           'S4']].replace(0, 0.00001)\n",
        "\n",
        "dados_teste = teste[['Amostra',\n",
        "                                           'Litofacies',\n",
        "                                           'Categoria Litofacies',\n",
        "                                           'Porosidade Gas',\n",
        "                                           'Porosidade RMN',\n",
        "                                           'Permeabilidade Gas',\n",
        "                                           'T2 Ponderado Log',\n",
        "                                           'S1',\n",
        "                                           'S2',\n",
        "                                           'S3',\n",
        "                                           'S4']].replace(0, 0.00001)"
      ],
      "metadata": {
        "id": "Yqhd-qdBU51d"
      },
      "execution_count": null,
      "outputs": []
    },
    {
      "cell_type": "code",
      "source": [
        "def ProcessamentoDadosSDR (Dataframe):\n",
        "    dados = pd.DataFrame({\n",
        "        'Amostra': Dataframe['Amostra'],\n",
        "        'Litofacies': Dataframe['Litofacies'],\n",
        "        'T2': Dataframe['T2 Ponderado Log'],\n",
        "        'Porosidade RMN': Dataframe['Porosidade RMN'],\n",
        "        'Porosidade Gas': Dataframe['Porosidade Gas'],\n",
        "        'Permeabilidade Gas': Dataframe['Permeabilidade Gas']\n",
        "    })\n",
        "    return dados\n",
        "\n",
        "def RegressaoSDR (Dataframe_SDR):\n",
        "    # Regressão via OLS\n",
        "    t2 = Dataframe_SDR['T2 Ponderado Log']\n",
        "    phi = Dataframe_SDR['Porosidade RMN']\n",
        "    permeabilidade = Dataframe_SDR['Permeabilidade Gas']\n",
        "    dados_calculo = pd.DataFrame({'Log k': np.log(permeabilidade),\n",
        "                                'Log φ': np.log(phi),\n",
        "                                'Log T2': np.log(t2)})\n",
        "    dados_calculo = sm.add_constant(dados_calculo)\n",
        "    atributos = dados_calculo[['const', 'Log φ', 'Log T2']]\n",
        "    rotulos = dados_calculo[['Log k']]\n",
        "    reg_ols_log = sm.OLS(rotulos, atributos, hasconst=True).fit()\n",
        "\n",
        "    # Obtenção dos coeficientes da Regressão\n",
        "    coeficientes = pd.DataFrame({\n",
        "        'Coeficiente': ['a', 'b', 'c', 'R2'],\n",
        "        'Valor': [np.exp(reg_ols_log.params[0]),\n",
        "                  reg_ols_log.params[1],\n",
        "                  reg_ols_log.params[2],\n",
        "                  reg_ols_log.rsquared]}).set_index('Coeficiente')\n",
        "\n",
        "    # Cálculo da Previsão com base nos coeficientes obtidos\n",
        "    a = coeficientes['Valor']['a']\n",
        "    b = coeficientes['Valor']['b']\n",
        "    c = coeficientes['Valor']['c']\n",
        "    k = (a*(phi**b)*(t2**c))\n",
        "    dados = pd.DataFrame({'Permeabilidade Prevista': k})\n",
        "\n",
        "    #Erro Sigma\n",
        "    k_p = np.log10(dados['Permeabilidade Prevista'])\n",
        "    k_g = np.log10(permeabilidade)\n",
        "    N = len(k_p)\n",
        "    soma = np.sum((k_p-k_g)**2)\n",
        "    raiz = np.sqrt(soma/N)\n",
        "    sigma = 10**(raiz)\n",
        "\n",
        "    return reg_ols_log, coeficientes, pd.concat([Dataframe_SDR, dados], axis = 1), sigma\n",
        "\n",
        "def ProcessamentoDadosHan (Dataframe):\n",
        "    dados = pd.DataFrame({'Amostra': Dataframe['Amostra'],\n",
        "                          'Litofacies': Dataframe['Litofacies'],\n",
        "                          'Permeabilidade Gas': Dataframe['Permeabilidade Gas'],\n",
        "                          'Porosidade Gas': Dataframe['Porosidade Gas'],\n",
        "                          'Porosidade RMN': Dataframe['Porosidade RMN'],\n",
        "                          'S1': Dataframe['S1'],\n",
        "                          'S2': Dataframe['S2'],\n",
        "                          'S3': Dataframe['S3'],\n",
        "                          'S4': Dataframe['S4']}).replace(0, np.nan).dropna().reset_index().drop('index', axis = 1)\n",
        "\n",
        "    return dados\n",
        "\n",
        "def RegressaoHan (Dataframe_Novo_SDR):\n",
        "    # Regressão via OLS\n",
        "    dados_calculo_log = pd.DataFrame({\n",
        "    'Log k': np.log(Dataframe_Novo_SDR['Permeabilidade Gas']),\n",
        "    'Log φ': np.log(Dataframe_Novo_SDR['Porosidade RMN']),\n",
        "    'S1 log': (-1)*(np.log(Dataframe_Novo_SDR['S1'])),\n",
        "    'S2 log': (-1)*(np.log(Dataframe_Novo_SDR['S2'])),\n",
        "    'S3 log': np.log(Dataframe_Novo_SDR['S3']),\n",
        "    'S4 log': np.log(Dataframe_Novo_SDR['S4'])})\n",
        "    dados_calculo = sm.add_constant(dados_calculo_log)\n",
        "\n",
        "    atributos = dados_calculo[['const', 'Log φ', 'S3 log', 'S4 log', 'S1 log', 'S2 log']]\n",
        "    rotulos = dados_calculo['Log k']\n",
        "    reg_novo = sm.OLS(rotulos, atributos, hasconst=True, missing = 'drop').fit()\n",
        "\n",
        "    # Obtenção dos coeficientes da Regressão\n",
        "    coeficientes_novo = pd.DataFrame({\n",
        "          'Coeficiente': ['a', 'b', 'c', 'd', 'e', 'f', 'R2'],\n",
        "          'Valor': [np.exp(reg_novo.params[0]),\n",
        "                    reg_novo.params[1],\n",
        "                    reg_novo.params[2],\n",
        "                    reg_novo.params[3],\n",
        "                    reg_novo.params[4],\n",
        "                    reg_novo.params[5],\n",
        "                    reg_novo.rsquared]\n",
        "          }).set_index('Coeficiente')\n",
        "\n",
        "    # Cálculo da Previsão com base nos coeficientes obtidos\n",
        "    a = coeficientes_novo['Valor']['a']\n",
        "    b = coeficientes_novo['Valor']['b']\n",
        "    c = coeficientes_novo['Valor']['c']\n",
        "    d = coeficientes_novo['Valor']['d']\n",
        "    e = coeficientes_novo['Valor']['e']\n",
        "    f = coeficientes_novo['Valor']['f']\n",
        "    phi = Dataframe_Novo_SDR['Porosidade RMN']\n",
        "    s1 = Dataframe_Novo_SDR['S1']\n",
        "    s2 = Dataframe_Novo_SDR['S2']\n",
        "    s3 = Dataframe_Novo_SDR['S3']\n",
        "    s4 = Dataframe_Novo_SDR['S4']\n",
        "    k = a*(phi**b)*(s3**c)*(s4**d)/((s1**e)*(s2**f))\n",
        "    dados = pd.DataFrame({'Permeabilidade Prevista': k})\n",
        "\n",
        "    #Erro Sigma\n",
        "    k_p = np.log10(dados['Permeabilidade Prevista'])\n",
        "    k_g = np.log10(Dataframe_Novo_SDR['Permeabilidade Gas'])\n",
        "    N = len(k_p)\n",
        "    soma = np.sum((k_p-k_g)**2)\n",
        "    raiz = np.sqrt(soma/N)\n",
        "    sigma = 10**(raiz)\n",
        "\n",
        "\n",
        "\n",
        "    return reg_novo, coeficientes_novo, pd.concat([Dataframe_Novo_SDR, dados], axis = 1), sigma"
      ],
      "metadata": {
        "id": "FA4cmHUigjFq"
      },
      "execution_count": null,
      "outputs": []
    },
    {
      "cell_type": "code",
      "source": [
        "treino['S4']"
      ],
      "metadata": {
        "colab": {
          "base_uri": "https://localhost:8080/"
        },
        "id": "cHZ7mad7XnsS",
        "outputId": "887d8d8a-2e21-4bc6-c867-bdaf6e4f2ebc"
      },
      "execution_count": null,
      "outputs": [
        {
          "output_type": "execute_result",
          "data": {
            "text/plain": [
              "0      0.023175\n",
              "1      0.004999\n",
              "2      0.015698\n",
              "3      0.007072\n",
              "4      0.000933\n",
              "         ...   \n",
              "339    0.000959\n",
              "340    0.002621\n",
              "341    0.006431\n",
              "342    0.005753\n",
              "343    0.003873\n",
              "Name: S4, Length: 344, dtype: float64"
            ]
          },
          "metadata": {},
          "execution_count": 31
        }
      ]
    },
    {
      "cell_type": "code",
      "source": [
        "reg_SDR, coef_SDR, df_SDR, erro_SDR = RegressaoSDR(treino)\n",
        "reg_SDR_teste, coef_SDR_teste, df_SDR_teste, erro_SDR_teste = RegressaoSDR(teste)"
      ],
      "metadata": {
        "id": "Xobrcm5Egy6g"
      },
      "execution_count": null,
      "outputs": []
    },
    {
      "cell_type": "code",
      "source": [
        "t2_teste = df_SDR_teste['T2 Ponderado Log']\n",
        "phi_teste = df_SDR_teste['Porosidade RMN']\n",
        "\n",
        "a = coef_SDR['Valor']['a']\n",
        "b = coef_SDR['Valor']['b']\n",
        "c = coef_SDR['Valor']['c']\n",
        "k = (a*(phi_teste**b)*(t2_teste**c))\n",
        "\n",
        "#Erro Sigma\n",
        "k_p = np.log10(k)\n",
        "k_g = np.log10(df_SDR_teste['Permeabilidade Gas'])\n",
        "N = len(k_p)\n",
        "soma = np.sum((k_p-k_g)**2)\n",
        "raiz = np.sqrt(soma/N)\n",
        "sigma_sdr = 10**(raiz)\n",
        "\n",
        "sigma_sdr\n",
        "df_SDR.to_excel('/content/drive/MyDrive/Mestrado/Resultados_SDR_Treino.xlsx')\n",
        "df_SDR_teste.to_excel('/content/drive/MyDrive/Mestrado/Resultados_SDR_Teste.xlsx')"
      ],
      "metadata": {
        "id": "j9knMV0fhJ1y"
      },
      "execution_count": null,
      "outputs": []
    },
    {
      "cell_type": "code",
      "source": [
        "print(a, b, c)"
      ],
      "metadata": {
        "colab": {
          "base_uri": "https://localhost:8080/"
        },
        "id": "CWGIpy9bdqfg",
        "outputId": "f5cdcfa2-d289-4f7b-a5c8-b7ada2e9a3d6"
      },
      "execution_count": null,
      "outputs": [
        {
          "output_type": "stream",
          "name": "stdout",
          "text": [
            "7.208683683661914 2.7098425363081513 0.4181978047603788\n"
          ]
        }
      ]
    },
    {
      "cell_type": "code",
      "source": [
        "reg_Han, coef_Han, df_Han, erro_Han = RegressaoHan(dados_treino)\n",
        "reg_Han_teste, coef_Han_teste, df_Han_teste, erro_Han_teste = RegressaoHan(dados_teste)"
      ],
      "metadata": {
        "id": "F7Y-BUWKhaaC"
      },
      "execution_count": null,
      "outputs": []
    },
    {
      "cell_type": "code",
      "source": [
        "a = coef_Han['Valor']['a']\n",
        "b = coef_Han['Valor']['b']\n",
        "c = coef_Han['Valor']['c']\n",
        "d = coef_Han['Valor']['d']\n",
        "e = coef_Han['Valor']['e']\n",
        "f = coef_Han['Valor']['f']\n",
        "phi = df_Han_teste['Porosidade RMN']\n",
        "s1 = df_Han_teste['S1']\n",
        "s2 = df_Han_teste['S2']\n",
        "s3 = df_Han_teste['S3']\n",
        "s4 = df_Han_teste['S4']\n",
        "k = a*(phi**b)*(s3**c)*(s4**d)/((s1**e)*(s2**f))\n",
        "df_Han_teste['Permeabilidade Prevista'] = k\n",
        "\n",
        "#Erro Sigma\n",
        "k_p = np.log10(k)\n",
        "k_g = np.log10(df_Han_teste['Permeabilidade Gas'])\n",
        "N = len(k_p)\n",
        "soma = np.sum((k_p-k_g)**2)\n",
        "raiz = np.sqrt(soma/N)\n",
        "sigma_han = 10**(raiz)\n",
        "sigma_han\n",
        "\n",
        "df_Han.to_excel('/content/drive/MyDrive/Mestrado/Resultados_Han_Treino.xlsx')\n",
        "df_Han_teste.to_excel('/content/drive/MyDrive/Mestrado/Resultados_Han_Teste.xlsx')"
      ],
      "metadata": {
        "id": "u-nYxYsPjGvG"
      },
      "execution_count": null,
      "outputs": []
    },
    {
      "cell_type": "code",
      "source": [
        "sigma_han"
      ],
      "metadata": {
        "colab": {
          "base_uri": "https://localhost:8080/"
        },
        "id": "S9IC_0r-W24e",
        "outputId": "fa263749-47ed-45d9-9c01-44f155e45c28"
      },
      "execution_count": null,
      "outputs": [
        {
          "output_type": "execute_result",
          "data": {
            "text/plain": [
              "4.412010250906544"
            ]
          },
          "metadata": {},
          "execution_count": 52
        }
      ]
    },
    {
      "cell_type": "code",
      "source": [
        "print(a, b, c, d, e, f)"
      ],
      "metadata": {
        "id": "DgwX983bdv7o",
        "outputId": "82295646-783f-4f28-ad23-ae753c832d21",
        "colab": {
          "base_uri": "https://localhost:8080/"
        }
      },
      "execution_count": null,
      "outputs": [
        {
          "output_type": "stream",
          "name": "stdout",
          "text": [
            "13.597514789200106 2.4287644333230727 0.0488340566000693 0.06839561796903659 1.0537568426651407 -0.0193906006585597\n"
          ]
        }
      ]
    },
    {
      "cell_type": "code",
      "source": [
        "treino = pd.read_excel('/content/drive/MyDrive/Mestrado/Artigo - 1/Resultados.xlsx', sheet_name = 'Dados_Treino')\n",
        "teste = pd.read_excel('/content/drive/MyDrive/Mestrado/Artigo - 1/Resultados.xlsx', sheet_name = 'Dados_Teste')"
      ],
      "metadata": {
        "id": "epX2mWDI_4J1"
      },
      "execution_count": null,
      "outputs": []
    },
    {
      "cell_type": "code",
      "source": [
        "def VisualizarPredicoes (Dados, Pasta_Salvamento = None, Data= None, Modelo = None,\n",
        "                          Litofacies = None, Salvar = False, Sigma = False, Valor_Sigma = 3.64):\n",
        "    titulo = 'Predições da Permeabilidade ' + str(Modelo)\n",
        "    eixo_x = 'Log Permeabilidade Gás (mD)'\n",
        "    eixo_y = 'Log Permeabilidade RMN (mD)'\n",
        "    reta = pd.DataFrame({'x' : np.arange(1000),\n",
        "                         'y' : np.arange(1000)})\n",
        "    plt.subplots(figsize = (9,6))\n",
        "    sns.scatterplot(data = Dados,\n",
        "                    x = 'Permeabilidade Gas',\n",
        "                    y = 'Permeabilidade Prevista',\n",
        "                    hue = Litofacies,\n",
        "                    palette = 'Spectral')\n",
        "    sns.lineplot(data = reta,\n",
        "                 x = 'x',\n",
        "                 y = 'y')\n",
        "    if Sigma == True:\n",
        "        plt.plot(reta['x'], reta['y'] * Valor_Sigma, \"b-.\", linewidth=1)\n",
        "        plt.plot(reta['x'], reta['y'] / Valor_Sigma, \"b-.\", linewidth=1, label = f'+/- \\u03C3: {Valor_Sigma:.2f}')\n",
        "\n",
        "    plt.xlabel(eixo_x)\n",
        "    plt.ylabel(eixo_y)\n",
        "    plt.title(titulo)\n",
        "    plt.xlim(0.00001,1000)\n",
        "    plt.ylim(0.00001,1000)\n",
        "    plt.legend(loc=\"upper left\", fontsize=10)\n",
        "\n",
        "    plt.xscale('log')\n",
        "    plt.yscale('log')\n",
        "\n",
        "    if Salvar == True:\n",
        "        plt.savefig(Pasta_Salvamento + Data + titulo + '.png', format='png')\n",
        "\n",
        "    plt.show()"
      ],
      "metadata": {
        "id": "C1yeloI5kGoW"
      },
      "execution_count": null,
      "outputs": []
    },
    {
      "cell_type": "code",
      "source": [
        "treino = pd.read_excel('/content/drive/MyDrive/Mestrado/Artigo - 1/Dados-Salvos/Resultados_treino.xlsx').drop(['Unnamed: 0.5',\t'Unnamed: 0.4',\t'Unnamed: 0.3',\n",
        "                                                                                                              'Unnamed: 0.2',\t'Unnamed: 0.1',\t'Unnamed: 0'],\n",
        "                                                                                                              axis = 1)\n",
        "teste = pd.read_excel('/content/drive/MyDrive/Mestrado/Artigo - 1/Dados-Salvos/Resultados_teste.xlsx').drop(['Unnamed: 0.5',\t'Unnamed: 0.4',\t'Unnamed: 0.3',\n",
        "                                                                                                              'Unnamed: 0.2',\t'Unnamed: 0.1',\t'Unnamed: 0'],\n",
        "                                                                                                              axis = 1)"
      ],
      "metadata": {
        "id": "Yyjj2wmfoMOy"
      },
      "execution_count": null,
      "outputs": []
    },
    {
      "cell_type": "code",
      "source": [],
      "metadata": {
        "id": "m_bb0H52AbAC"
      },
      "execution_count": null,
      "outputs": []
    },
    {
      "cell_type": "code",
      "source": [
        "df_Han.to_excel('/content/drive/MyDrive/Mestrado/Artigo - 1/Dados-Salvos/Resultado_Han.xlsx')\n",
        "df_SDR.to_excel('/content/drive/MyDrive/Mestrado/Artigo - 1/Dados-Salvos/Resultado_SDR.xlsx')"
      ],
      "metadata": {
        "id": "nwuRhJACwCmo"
      },
      "execution_count": null,
      "outputs": []
    },
    {
      "cell_type": "code",
      "source": [
        "df_Han_teste['Amostra']"
      ],
      "metadata": {
        "colab": {
          "base_uri": "https://localhost:8080/"
        },
        "id": "8JylifkEBZFs",
        "outputId": "0acb644b-4468-4430-bb34-c31efbae81aa"
      },
      "execution_count": null,
      "outputs": [
        {
          "output_type": "execute_result",
          "data": {
            "text/plain": [
              "0      AFR3-B-14\n",
              "1      AFR3-B-13\n",
              "2      AFR1-D-03\n",
              "3      AA01-A-13\n",
              "4      AT04-A-04\n",
              "         ...    \n",
              "145    AA01-C-01\n",
              "146    AA05-C-04\n",
              "147    AT01-C-05\n",
              "148    AT01-D-01\n",
              "149    AT04-B-12\n",
              "Name: Amostra, Length: 150, dtype: object"
            ]
          },
          "metadata": {},
          "execution_count": 38
        }
      ]
    },
    {
      "cell_type": "code",
      "source": [
        "treino['SDR'] = df_SDR['Permeabilidade Prevista']\n",
        "treino['Han'] = df_Han['Permeabilidade Prevista']\n",
        "\n",
        "teste['SDR'] = df_SDR_teste['Permeabilidade Prevista']\n",
        "teste['Han'] = df_Han_teste['Permeabilidade Prevista']"
      ],
      "metadata": {
        "id": "zZZOioa9opet"
      },
      "execution_count": null,
      "outputs": []
    },
    {
      "cell_type": "code",
      "source": [
        "treino.to_excel('/content/drive/MyDrive/Mestrado/Artigo - 1/Dados-Salvos/Resultado_treino.xlsx')\n",
        "teste.to_excel('/content/drive/MyDrive/Mestrado/Artigo - 1/Dados-Salvos/Resultado_teste.xlsx')"
      ],
      "metadata": {
        "id": "PKqcxPbppT8k"
      },
      "execution_count": null,
      "outputs": []
    },
    {
      "cell_type": "code",
      "source": [
        "VisualizarPredicoes(df_SDR, Sigma = True, Valor_Sigma = erro_SDR, Litofacies = 'Litofacies', Modelo = 'Treino SDR')"
      ],
      "metadata": {
        "id": "CmSAI4BvkXno"
      },
      "execution_count": null,
      "outputs": []
    },
    {
      "cell_type": "code",
      "source": [
        "VisualizarPredicoes(df_SDR_teste, Sigma = True, Valor_Sigma = sigma_sdr, Litofacies = 'Litofacies', Modelo = 'Teste SDR')"
      ],
      "metadata": {
        "id": "CNyKq3XjkhqN"
      },
      "execution_count": null,
      "outputs": []
    },
    {
      "cell_type": "code",
      "source": [
        "VisualizarPredicoes(df_Han, Sigma = True, Valor_Sigma = erro_Han, Litofacies = 'Litofacies', Modelo = 'Treino Han')"
      ],
      "metadata": {
        "id": "h2gxYPtNk8M5"
      },
      "execution_count": null,
      "outputs": []
    },
    {
      "cell_type": "code",
      "source": [
        "VisualizarPredicoes(df_Han_teste, Sigma = True, Valor_Sigma = sigma_han, Litofacies = 'Litofacies', Modelo = 'Teste Han')"
      ],
      "metadata": {
        "id": "zGoVMLFBlwSp"
      },
      "execution_count": null,
      "outputs": []
    },
    {
      "cell_type": "code",
      "source": [],
      "metadata": {
        "id": "aSAU1u7Gl04d"
      },
      "execution_count": null,
      "outputs": []
    }
  ]
}